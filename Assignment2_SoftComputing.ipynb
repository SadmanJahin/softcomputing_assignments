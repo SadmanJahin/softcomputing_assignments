{
  "nbformat": 4,
  "nbformat_minor": 0,
  "metadata": {
    "colab": {
      "name": "Assignment2_SoftComp.ipynb",
      "provenance": [],
      "collapsed_sections": []
    },
    "kernelspec": {
      "name": "python3",
      "display_name": "Python 3"
    },
    "language_info": {
      "name": "python"
    }
  },
  "cells": [
    {
      "cell_type": "code",
      "execution_count": 1,
      "metadata": {
        "id": "tECEygSejPXq"
      },
      "outputs": [],
      "source": [
        "import pandas as pd\n",
        "import numpy as np\n",
        "import seaborn as sns"
      ]
    },
    {
      "cell_type": "code",
      "source": [
        "import tensorflow\n",
        "tensorflow.random.set_seed(115)"
      ],
      "metadata": {
        "id": "ZFF9V8IiVoS8"
      },
      "execution_count": null,
      "outputs": []
    },
    {
      "cell_type": "code",
      "source": [
        "from sklearn.metrics import accuracy_score\n",
        "from sklearn.metrics import precision_score\n",
        "from sklearn.metrics import recall_score\n",
        "from sklearn.metrics import f1_score\n",
        "from sklearn.metrics import classification_report\n",
        "result=[]\n",
        "def getClassificationResult(model,x_test,y_test):\n",
        "    y_true=y_test\n",
        "    y_pred=model.predict(x_test)\n",
        "    \n",
        "    if len(y_pred.shape) == 2:\n",
        "        y_pred=np.argmax(y_pred, axis=1)\n",
        "    if len(y_true.shape) == 2:\n",
        "        y_true=np.argmax(y_true, axis=1)\n",
        "    ac=round(accuracy_score(y_true, y_pred),4)\n",
        "    pr=round(precision_score(y_true, y_pred,average='weighted'),4)\n",
        "    re=round(recall_score(y_true, y_pred,average='weighted'),4)\n",
        "    f1=round(f1_score(y_true, y_pred,average='weighted'),4)\n",
        "    return model,ac,pr,re,f1"
      ],
      "metadata": {
        "id": "iWA7XIugjRzi"
      },
      "execution_count": 61,
      "outputs": []
    },
    {
      "cell_type": "markdown",
      "source": [
        "Dataset Load From Drive"
      ],
      "metadata": {
        "id": "4sgVRJ7NSsmE"
      }
    },
    {
      "cell_type": "code",
      "source": [
        "from google.colab import drive\n",
        "drive.mount('/content/drive')\n",
        "\n",
        "df_dir= '/content/drive/MyDrive/Assignment1_Dataset/Dataset.csv'"
      ],
      "metadata": {
        "colab": {
          "base_uri": "https://localhost:8080/"
        },
        "id": "t2-OK2PMQQvN",
        "outputId": "7b9efc5a-8bf3-4ca2-ca67-937e63d4d6eb"
      },
      "execution_count": 3,
      "outputs": [
        {
          "output_type": "stream",
          "name": "stdout",
          "text": [
            "Mounted at /content/drive\n"
          ]
        }
      ]
    },
    {
      "cell_type": "code",
      "source": [
        "df=pd.read_csv(df_dir)"
      ],
      "metadata": {
        "id": "xEut_9UIkg3z"
      },
      "execution_count": 4,
      "outputs": []
    },
    {
      "cell_type": "code",
      "source": [
        "import nltk\n",
        "nltk.download('stopwords')\n",
        "from nltk.corpus import stopwords"
      ],
      "metadata": {
        "colab": {
          "base_uri": "https://localhost:8080/"
        },
        "id": "ctUS4xZ_RLW-",
        "outputId": "cafbb9a0-85a0-4955-aa2b-64742ee217ec"
      },
      "execution_count": 5,
      "outputs": [
        {
          "output_type": "stream",
          "name": "stdout",
          "text": [
            "[nltk_data] Downloading package stopwords to /root/nltk_data...\n",
            "[nltk_data]   Unzipping corpora/stopwords.zip.\n"
          ]
        }
      ]
    },
    {
      "cell_type": "markdown",
      "source": [
        "Removing Stop Words"
      ],
      "metadata": {
        "id": "YblCXqxyS3HM"
      }
    },
    {
      "cell_type": "code",
      "source": [
        "import nltk\n",
        "nltk.download('stopwords')\n",
        "from nltk.corpus import stopwords\n",
        "stop_words = stopwords.words('english')\n",
        "df['Text'] = df['Text'].apply(lambda x: ' '.join([word for word in x.split() if word not in (stop_words)]))"
      ],
      "metadata": {
        "colab": {
          "base_uri": "https://localhost:8080/"
        },
        "id": "6c-gTUA7RT1D",
        "outputId": "f584d285-16d0-4257-c33d-e178ec8e5fdb"
      },
      "execution_count": 6,
      "outputs": [
        {
          "output_type": "stream",
          "name": "stdout",
          "text": [
            "[nltk_data] Downloading package stopwords to /root/nltk_data...\n",
            "[nltk_data]   Package stopwords is already up-to-date!\n"
          ]
        }
      ]
    },
    {
      "cell_type": "markdown",
      "source": [
        "Stemming"
      ],
      "metadata": {
        "id": "FjEbF5dhS7Z0"
      }
    },
    {
      "cell_type": "code",
      "source": [
        "from nltk.stem import PorterStemmer\n",
        "#Stemming\n",
        "ps = PorterStemmer()\n",
        "\n",
        "def stem_sentences(sentence):\n",
        "    tokens = sentence.split()\n",
        "    stemmed_tokens = [ps.stem(token) for token in tokens]\n",
        "    return ' '.join(stemmed_tokens)"
      ],
      "metadata": {
        "id": "sfBGhXtnRaq7"
      },
      "execution_count": 7,
      "outputs": []
    },
    {
      "cell_type": "code",
      "source": [
        "df['Text'] = df['Text'].apply(stem_sentences)"
      ],
      "metadata": {
        "id": "YP7ua4BlRyrm"
      },
      "execution_count": 8,
      "outputs": []
    },
    {
      "cell_type": "code",
      "source": [
        "x=df[\"Text\"]\n",
        "y=df[\"Sentiment\"]"
      ],
      "metadata": {
        "id": "b42OtmVWoGjb"
      },
      "execution_count": 9,
      "outputs": []
    },
    {
      "cell_type": "markdown",
      "source": [
        "TF-IDF + ANN"
      ],
      "metadata": {
        "id": "SVQUDaC7S_al"
      }
    },
    {
      "cell_type": "code",
      "source": [
        "from sklearn.feature_extraction.text import TfidfVectorizer\n",
        "tf=TfidfVectorizer()\n",
        "\n",
        "x=tf.fit_transform(x)\n",
        "\n",
        "x=x.toarray()"
      ],
      "metadata": {
        "id": "fMleb1mIlNDE"
      },
      "execution_count": 10,
      "outputs": []
    },
    {
      "cell_type": "code",
      "source": [
        "from sklearn.model_selection import train_test_split\n",
        "\n",
        "xtrain,xtest,ytrain,ytest=train_test_split(x,y,test_size=0.2)"
      ],
      "metadata": {
        "id": "3GemP3QKlLoE"
      },
      "execution_count": 11,
      "outputs": []
    },
    {
      "cell_type": "code",
      "source": [
        "import tensorflow as tf \n",
        "from tensorflow.keras.models import Sequential\n",
        "from tensorflow.keras.layers import Dense,Dropout,Activation,Flatten\n",
        "from tensorflow.keras.optimizers import Adam\n",
        "from sklearn import metrics\n",
        "from tensorflow.keras.utils import to_categorical\n",
        "from sklearn.preprocessing import LabelEncoder\n",
        "labelEncoder= LabelEncoder()"
      ],
      "metadata": {
        "id": "PEhEycvHljy7"
      },
      "execution_count": 13,
      "outputs": []
    },
    {
      "cell_type": "code",
      "source": [
        "y_train_new=to_categorical(labelEncoder.fit_transform(ytrain))\n",
        "y_test_new=to_categorical(labelEncoder.fit_transform(ytest))"
      ],
      "metadata": {
        "id": "3VdCCLyGk7aO"
      },
      "execution_count": 14,
      "outputs": []
    },
    {
      "cell_type": "code",
      "source": [
        "input_size=xtrain.shape[1]\n",
        "xtrain.shape[1]"
      ],
      "metadata": {
        "colab": {
          "base_uri": "https://localhost:8080/"
        },
        "id": "ALttVl6Djtcu",
        "outputId": "6f761318-2470-4850-9743-cac40909b5cd"
      },
      "execution_count": 15,
      "outputs": [
        {
          "output_type": "execute_result",
          "data": {
            "text/plain": [
              "8944"
            ]
          },
          "metadata": {},
          "execution_count": 15
        }
      ]
    },
    {
      "cell_type": "code",
      "source": [
        "model1=Sequential()\n",
        "#first layer\n",
        "model1.add(Dense(100,input_shape=(input_size,)))\n",
        "model1.add(Activation('relu'))\n",
        "model1.add(Dropout(0.2))\n",
        "\n",
        "#second layer\n",
        "model1.add(Dense(100))\n",
        "model1.add(Activation('relu'))\n",
        "model1.add(Dropout(0.1))\n",
        "\n",
        "#third layer\n",
        "model1.add(Dense(100))\n",
        "model1.add(Activation('relu'))\n",
        "model1.add(Dropout(0.1))\n",
        "\n",
        "\n",
        "\n",
        "\n",
        "#final layer\n",
        "model1.add(Dense(2))\n",
        "model1.add(Activation('softmax'))"
      ],
      "metadata": {
        "id": "N9TNlzZYTeC9"
      },
      "execution_count": 17,
      "outputs": []
    },
    {
      "cell_type": "code",
      "source": [
        "optimizer = tf.keras.optimizers.Adam(lr=0.001)\n",
        "model1.compile(loss='categorical_crossentropy',metrics=['accuracy'],optimizer=optimizer)"
      ],
      "metadata": {
        "colab": {
          "base_uri": "https://localhost:8080/"
        },
        "id": "WnBKKhPdTgrS",
        "outputId": "9504fc72-1376-46c2-d1f3-a2e476b528f5"
      },
      "execution_count": 18,
      "outputs": [
        {
          "output_type": "stream",
          "name": "stderr",
          "text": [
            "/usr/local/lib/python3.7/dist-packages/keras/optimizer_v2/adam.py:105: UserWarning: The `lr` argument is deprecated, use `learning_rate` instead.\n",
            "  super(Adam, self).__init__(name, **kwargs)\n"
          ]
        }
      ]
    },
    {
      "cell_type": "code",
      "source": [
        "\n",
        "\n",
        "model1.fit(xtrain,y_train_new,batch_size=32,epochs=20,validation_data=(xtest,y_test_new))"
      ],
      "metadata": {
        "colab": {
          "base_uri": "https://localhost:8080/"
        },
        "id": "qSQ-e1xHUH4M",
        "outputId": "a1fdac39-12db-4121-e77b-2458c1fdb370"
      },
      "execution_count": 19,
      "outputs": [
        {
          "output_type": "stream",
          "name": "stdout",
          "text": [
            "Epoch 1/20\n",
            "145/145 [==============================] - 2s 9ms/step - loss: 0.5720 - accuracy: 0.6807 - val_loss: 0.4712 - val_accuracy: 0.7826\n",
            "Epoch 2/20\n",
            "145/145 [==============================] - 1s 8ms/step - loss: 0.2722 - accuracy: 0.8908 - val_loss: 0.4710 - val_accuracy: 0.7895\n",
            "Epoch 3/20\n",
            "145/145 [==============================] - 1s 8ms/step - loss: 0.0838 - accuracy: 0.9702 - val_loss: 0.6390 - val_accuracy: 0.7860\n",
            "Epoch 4/20\n",
            "145/145 [==============================] - 1s 8ms/step - loss: 0.0214 - accuracy: 0.9933 - val_loss: 0.8266 - val_accuracy: 0.7921\n",
            "Epoch 5/20\n",
            "145/145 [==============================] - 1s 8ms/step - loss: 0.0060 - accuracy: 0.9991 - val_loss: 0.9765 - val_accuracy: 0.7869\n",
            "Epoch 6/20\n",
            "145/145 [==============================] - 1s 8ms/step - loss: 0.0014 - accuracy: 1.0000 - val_loss: 1.0582 - val_accuracy: 0.7895\n",
            "Epoch 7/20\n",
            "145/145 [==============================] - 1s 8ms/step - loss: 0.0021 - accuracy: 0.9998 - val_loss: 1.1182 - val_accuracy: 0.7860\n",
            "Epoch 8/20\n",
            "145/145 [==============================] - 1s 8ms/step - loss: 0.0032 - accuracy: 0.9994 - val_loss: 1.1400 - val_accuracy: 0.7877\n",
            "Epoch 9/20\n",
            "145/145 [==============================] - 1s 8ms/step - loss: 0.0015 - accuracy: 0.9996 - val_loss: 1.1273 - val_accuracy: 0.7912\n",
            "Epoch 10/20\n",
            "145/145 [==============================] - 1s 8ms/step - loss: 2.5960e-04 - accuracy: 1.0000 - val_loss: 1.2056 - val_accuracy: 0.7929\n",
            "Epoch 11/20\n",
            "145/145 [==============================] - 1s 8ms/step - loss: 1.9284e-04 - accuracy: 1.0000 - val_loss: 1.2459 - val_accuracy: 0.7912\n",
            "Epoch 12/20\n",
            "145/145 [==============================] - 1s 8ms/step - loss: 1.1069e-04 - accuracy: 1.0000 - val_loss: 1.2901 - val_accuracy: 0.7912\n",
            "Epoch 13/20\n",
            "145/145 [==============================] - 1s 8ms/step - loss: 8.1938e-05 - accuracy: 1.0000 - val_loss: 1.3421 - val_accuracy: 0.7877\n",
            "Epoch 14/20\n",
            "145/145 [==============================] - 1s 8ms/step - loss: 9.1754e-05 - accuracy: 1.0000 - val_loss: 1.3463 - val_accuracy: 0.7903\n",
            "Epoch 15/20\n",
            "145/145 [==============================] - 1s 8ms/step - loss: 6.3538e-05 - accuracy: 1.0000 - val_loss: 1.3959 - val_accuracy: 0.7903\n",
            "Epoch 16/20\n",
            "145/145 [==============================] - 1s 8ms/step - loss: 5.3791e-05 - accuracy: 1.0000 - val_loss: 1.4390 - val_accuracy: 0.7895\n",
            "Epoch 17/20\n",
            "145/145 [==============================] - 1s 8ms/step - loss: 1.3690e-04 - accuracy: 1.0000 - val_loss: 1.4313 - val_accuracy: 0.7895\n",
            "Epoch 18/20\n",
            "145/145 [==============================] - 1s 8ms/step - loss: 1.0522e-04 - accuracy: 1.0000 - val_loss: 1.5618 - val_accuracy: 0.7895\n",
            "Epoch 19/20\n",
            "145/145 [==============================] - 1s 8ms/step - loss: 3.4789e-05 - accuracy: 1.0000 - val_loss: 1.6145 - val_accuracy: 0.7886\n",
            "Epoch 20/20\n",
            "145/145 [==============================] - 1s 8ms/step - loss: 2.5363e-05 - accuracy: 1.0000 - val_loss: 1.5953 - val_accuracy: 0.7903\n"
          ]
        },
        {
          "output_type": "execute_result",
          "data": {
            "text/plain": [
              "<keras.callbacks.History at 0x7f468ec94350>"
            ]
          },
          "metadata": {},
          "execution_count": 19
        }
      ]
    },
    {
      "cell_type": "code",
      "source": [
        "model1.evaluate(xtest,y_test_new)[1]"
      ],
      "metadata": {
        "colab": {
          "base_uri": "https://localhost:8080/"
        },
        "id": "K8lulffhWBVV",
        "outputId": "a2b4a4ba-e1f1-4a26-fb1d-cd6c9a21d2b5"
      },
      "execution_count": 20,
      "outputs": [
        {
          "output_type": "stream",
          "name": "stdout",
          "text": [
            "37/37 [==============================] - 0s 4ms/step - loss: 1.5953 - accuracy: 0.7903\n"
          ]
        },
        {
          "output_type": "execute_result",
          "data": {
            "text/plain": [
              "0.7903364896774292"
            ]
          },
          "metadata": {},
          "execution_count": 20
        }
      ]
    },
    {
      "cell_type": "code",
      "source": [
        "result.append(getClassificationResult(model1,xtest,y_test_new))"
      ],
      "metadata": {
        "id": "otkzVrf7jkmr"
      },
      "execution_count": 22,
      "outputs": []
    },
    {
      "cell_type": "markdown",
      "source": [
        "BoW + ANN"
      ],
      "metadata": {
        "id": "5FDilMh4v2Kn"
      }
    },
    {
      "cell_type": "code",
      "source": [
        "x=df[\"Text\"]\n",
        "y=df[\"Sentiment\"]"
      ],
      "metadata": {
        "id": "q6ineKKtkwKP"
      },
      "execution_count": 23,
      "outputs": []
    },
    {
      "cell_type": "code",
      "source": [
        "from sklearn.feature_extraction.text import CountVectorizer\n",
        "cv=CountVectorizer()\n",
        "\n",
        "\n",
        "x=cv.fit_transform(x)\n",
        "\n",
        "x=x.toarray()"
      ],
      "metadata": {
        "id": "QGY0ut5bkD2t"
      },
      "execution_count": 24,
      "outputs": []
    },
    {
      "cell_type": "code",
      "source": [
        "from sklearn.model_selection import train_test_split\n",
        "\n",
        "xtrain,xtest,ytrain,ytest=train_test_split(x,y,test_size=0.2)"
      ],
      "metadata": {
        "id": "jB4PZVFXkQWd"
      },
      "execution_count": 25,
      "outputs": []
    },
    {
      "cell_type": "code",
      "source": [
        "y_train_new=to_categorical(labelEncoder.fit_transform(ytrain))\n",
        "y_test_new=to_categorical(labelEncoder.fit_transform(ytest))"
      ],
      "metadata": {
        "id": "8VQp-4TklEb-"
      },
      "execution_count": 26,
      "outputs": []
    },
    {
      "cell_type": "code",
      "source": [
        "input_size=xtrain.shape[1]\n",
        "xtrain.shape[1]"
      ],
      "metadata": {
        "colab": {
          "base_uri": "https://localhost:8080/"
        },
        "id": "EQZp0YT8lJCf",
        "outputId": "2e477792-5bf1-4fb9-e981-0a8c17344a42"
      },
      "execution_count": 27,
      "outputs": [
        {
          "output_type": "execute_result",
          "data": {
            "text/plain": [
              "8944"
            ]
          },
          "metadata": {},
          "execution_count": 27
        }
      ]
    },
    {
      "cell_type": "code",
      "source": [
        "model2=Sequential()\n",
        "#first layer\n",
        "model2.add(Dense(100,input_shape=(input_size,)))\n",
        "model2.add(Activation('relu'))\n",
        "model2.add(Dropout(0.2))\n",
        "\n",
        "#second layer\n",
        "model2.add(Dense(100))\n",
        "model2.add(Activation('relu'))\n",
        "model2.add(Dropout(0.1))\n",
        "\n",
        "#third layer\n",
        "model2.add(Dense(100))\n",
        "model2.add(Activation('relu'))\n",
        "model2.add(Dropout(0.1))\n",
        "\n",
        "\n",
        "\n",
        "#final layer\n",
        "model2.add(Dense(2))\n",
        "model2.add(Activation('softmax'))"
      ],
      "metadata": {
        "id": "rP9Skr5klLrv"
      },
      "execution_count": 32,
      "outputs": []
    },
    {
      "cell_type": "code",
      "source": [
        "optimizer = tf.keras.optimizers.Adam(lr=0.001)\n",
        "model2.compile(loss='categorical_crossentropy',metrics=['accuracy'],optimizer=optimizer)"
      ],
      "metadata": {
        "colab": {
          "base_uri": "https://localhost:8080/"
        },
        "id": "sM_wMvv4lOFl",
        "outputId": "a3ac8d8e-fcaa-4fef-c0db-87b5b3e5f1d2"
      },
      "execution_count": 33,
      "outputs": [
        {
          "output_type": "stream",
          "name": "stderr",
          "text": [
            "/usr/local/lib/python3.7/dist-packages/keras/optimizer_v2/adam.py:105: UserWarning: The `lr` argument is deprecated, use `learning_rate` instead.\n",
            "  super(Adam, self).__init__(name, **kwargs)\n"
          ]
        }
      ]
    },
    {
      "cell_type": "code",
      "source": [
        "\n",
        "\n",
        "model2.fit(xtrain,y_train_new,batch_size=32,epochs=20,validation_data=(xtest,y_test_new))"
      ],
      "metadata": {
        "colab": {
          "base_uri": "https://localhost:8080/"
        },
        "id": "j3WGXNyylQyc",
        "outputId": "c49cc8a1-7153-425e-ed26-7ff43fae1798"
      },
      "execution_count": 34,
      "outputs": [
        {
          "output_type": "stream",
          "name": "stdout",
          "text": [
            "Epoch 1/20\n",
            "145/145 [==============================] - 2s 10ms/step - loss: 0.5563 - accuracy: 0.7122 - val_loss: 0.4995 - val_accuracy: 0.7550\n",
            "Epoch 2/20\n",
            "145/145 [==============================] - 1s 9ms/step - loss: 0.2571 - accuracy: 0.8994 - val_loss: 0.5578 - val_accuracy: 0.7679\n",
            "Epoch 3/20\n",
            "145/145 [==============================] - 1s 9ms/step - loss: 0.0904 - accuracy: 0.9698 - val_loss: 0.7524 - val_accuracy: 0.7662\n",
            "Epoch 4/20\n",
            "145/145 [==============================] - 1s 9ms/step - loss: 0.0213 - accuracy: 0.9927 - val_loss: 1.1224 - val_accuracy: 0.7653\n",
            "Epoch 5/20\n",
            "145/145 [==============================] - 1s 10ms/step - loss: 0.0114 - accuracy: 0.9968 - val_loss: 1.2591 - val_accuracy: 0.7610\n",
            "Epoch 6/20\n",
            "145/145 [==============================] - 2s 10ms/step - loss: 0.0047 - accuracy: 0.9989 - val_loss: 1.4224 - val_accuracy: 0.7670\n",
            "Epoch 7/20\n",
            "145/145 [==============================] - 1s 9ms/step - loss: 0.0013 - accuracy: 0.9998 - val_loss: 1.5589 - val_accuracy: 0.7662\n",
            "Epoch 8/20\n",
            "145/145 [==============================] - 1s 9ms/step - loss: 0.0033 - accuracy: 0.9994 - val_loss: 1.5785 - val_accuracy: 0.7645\n",
            "Epoch 9/20\n",
            "145/145 [==============================] - 1s 10ms/step - loss: 0.0038 - accuracy: 0.9989 - val_loss: 1.5924 - val_accuracy: 0.7679\n",
            "Epoch 10/20\n",
            "145/145 [==============================] - 1s 9ms/step - loss: 0.0011 - accuracy: 0.9998 - val_loss: 1.7200 - val_accuracy: 0.7619\n",
            "Epoch 11/20\n",
            "145/145 [==============================] - 2s 11ms/step - loss: 0.0029 - accuracy: 0.9994 - val_loss: 1.7324 - val_accuracy: 0.7636\n",
            "Epoch 12/20\n",
            "145/145 [==============================] - 1s 9ms/step - loss: 0.0038 - accuracy: 0.9994 - val_loss: 1.6968 - val_accuracy: 0.7575\n",
            "Epoch 13/20\n",
            "145/145 [==============================] - 2s 10ms/step - loss: 0.0026 - accuracy: 0.9996 - val_loss: 1.6899 - val_accuracy: 0.7558\n",
            "Epoch 14/20\n",
            "145/145 [==============================] - 1s 9ms/step - loss: 0.0057 - accuracy: 0.9989 - val_loss: 1.6440 - val_accuracy: 0.7610\n",
            "Epoch 15/20\n",
            "145/145 [==============================] - 1s 9ms/step - loss: 7.1208e-04 - accuracy: 1.0000 - val_loss: 1.7551 - val_accuracy: 0.7575\n",
            "Epoch 16/20\n",
            "145/145 [==============================] - 1s 9ms/step - loss: 0.0012 - accuracy: 0.9996 - val_loss: 1.8430 - val_accuracy: 0.7619\n",
            "Epoch 17/20\n",
            "145/145 [==============================] - 1s 9ms/step - loss: 8.8600e-04 - accuracy: 0.9998 - val_loss: 1.8956 - val_accuracy: 0.7653\n",
            "Epoch 18/20\n",
            "145/145 [==============================] - 1s 9ms/step - loss: 2.6341e-04 - accuracy: 1.0000 - val_loss: 2.0698 - val_accuracy: 0.7645\n",
            "Epoch 19/20\n",
            "145/145 [==============================] - 1s 10ms/step - loss: 9.4212e-05 - accuracy: 1.0000 - val_loss: 2.0797 - val_accuracy: 0.7705\n",
            "Epoch 20/20\n",
            "145/145 [==============================] - 2s 13ms/step - loss: 0.0040 - accuracy: 0.9991 - val_loss: 1.8165 - val_accuracy: 0.7679\n"
          ]
        },
        {
          "output_type": "execute_result",
          "data": {
            "text/plain": [
              "<keras.callbacks.History at 0x7f468bd12e50>"
            ]
          },
          "metadata": {},
          "execution_count": 34
        }
      ]
    },
    {
      "cell_type": "code",
      "source": [
        "model2.evaluate(xtest,y_test_new)[1]"
      ],
      "metadata": {
        "colab": {
          "base_uri": "https://localhost:8080/"
        },
        "id": "TpVm2rFkliuJ",
        "outputId": "db5e40a4-fc1b-41c0-d551-3d25f6dbee7d"
      },
      "execution_count": 35,
      "outputs": [
        {
          "output_type": "stream",
          "name": "stdout",
          "text": [
            "37/37 [==============================] - 0s 4ms/step - loss: 1.8165 - accuracy: 0.7679\n"
          ]
        },
        {
          "output_type": "execute_result",
          "data": {
            "text/plain": [
              "0.7679033875465393"
            ]
          },
          "metadata": {},
          "execution_count": 35
        }
      ]
    },
    {
      "cell_type": "code",
      "source": [
        "result.append(getClassificationResult(model2,xtest,y_test_new))"
      ],
      "metadata": {
        "id": "Kk6SGp-6kI9w"
      },
      "execution_count": 36,
      "outputs": []
    },
    {
      "cell_type": "markdown",
      "source": [
        "One Hot Embedding + CNN"
      ],
      "metadata": {
        "id": "F1-O7aTPv8MG"
      }
    },
    {
      "cell_type": "code",
      "source": [
        "x=df[\"Text\"]\n",
        "y=df[\"Sentiment\"]"
      ],
      "metadata": {
        "id": "oOCiF2dasIu2"
      },
      "execution_count": 37,
      "outputs": []
    },
    {
      "cell_type": "code",
      "source": [
        "from sklearn.feature_extraction.text import CountVectorizer\n",
        "cv=CountVectorizer(binary=True)\n",
        "\n",
        "\n",
        "x=cv.fit_transform(x)\n",
        "\n",
        "x=x.toarray()"
      ],
      "metadata": {
        "id": "ygnj9IdDsIu9"
      },
      "execution_count": 38,
      "outputs": []
    },
    {
      "cell_type": "code",
      "source": [
        "from sklearn.model_selection import train_test_split\n",
        "\n",
        "xtrain,xtest,ytrain,ytest=train_test_split(x,y,test_size=0.2)"
      ],
      "metadata": {
        "id": "VwiKDX7WsIu9"
      },
      "execution_count": 39,
      "outputs": []
    },
    {
      "cell_type": "code",
      "source": [
        "y_train_new=to_categorical(labelEncoder.fit_transform(ytrain))\n",
        "y_test_new=to_categorical(labelEncoder.fit_transform(ytest))"
      ],
      "metadata": {
        "id": "ktlAeC9RsIu-"
      },
      "execution_count": 40,
      "outputs": []
    },
    {
      "cell_type": "code",
      "source": [
        "input_size=xtrain.shape[1]\n",
        "xtrain.shape[1]"
      ],
      "metadata": {
        "colab": {
          "base_uri": "https://localhost:8080/"
        },
        "outputId": "45d5b121-d3ac-4234-8897-bb5abe61f274",
        "id": "BGZtHCRYsIu-"
      },
      "execution_count": null,
      "outputs": [
        {
          "output_type": "execute_result",
          "data": {
            "text/plain": [
              "8944"
            ]
          },
          "metadata": {},
          "execution_count": 36
        }
      ]
    },
    {
      "cell_type": "code",
      "source": [
        "\n",
        "\n",
        "from keras.preprocessing import sequence\n",
        "from keras.models import Sequential\n",
        "from keras.layers import Dense, Dropout, Activation, Conv1D, GlobalMaxPooling1D, Embedding\n",
        "from keras.datasets import imdb\n",
        "from keras import optimizers\n",
        "import matplotlib.pyplot as plt\n",
        "import numpy as np\n"
      ],
      "metadata": {
        "id": "oGHUtXxS1FB6"
      },
      "execution_count": 41,
      "outputs": []
    },
    {
      "cell_type": "code",
      "source": [
        "print('Pad sequences (samples x time)')\n",
        "x_train = sequence.pad_sequences(sequences=xtrain, maxlen=800)\n",
        "x_test = sequence.pad_sequences(sequences=xtest, maxlen=800)\n",
        "print('x_train shape:', xtrain.shape)\n",
        "print('x_test shape:', xtest.shape)\n",
        "\n",
        "print('Build model...')\n",
        "model3 = Sequential()"
      ],
      "metadata": {
        "colab": {
          "base_uri": "https://localhost:8080/"
        },
        "id": "_T96phDH7JuI",
        "outputId": "cf9c16e4-a5de-41af-9875-d73ff34445fd"
      },
      "execution_count": 42,
      "outputs": [
        {
          "output_type": "stream",
          "name": "stdout",
          "text": [
            "Pad sequences (samples x time)\n",
            "x_train shape: (4632, 8944)\n",
            "x_test shape: (1159, 8944)\n",
            "Build model...\n"
          ]
        }
      ]
    },
    {
      "cell_type": "code",
      "source": [
        "model3.add(Embedding(input_dim=10000,\n",
        "                    output_dim=50,\n",
        "                    input_length=8944))"
      ],
      "metadata": {
        "id": "ESlxVysi7ceW"
      },
      "execution_count": 43,
      "outputs": []
    },
    {
      "cell_type": "code",
      "source": [
        "model3.add(Dropout(0.1))"
      ],
      "metadata": {
        "id": "I1z2zfRx7gqJ"
      },
      "execution_count": 44,
      "outputs": []
    },
    {
      "cell_type": "code",
      "source": [
        "model3.add(Conv1D(filters=250,\n",
        "                 kernel_size=1,\n",
        "                 padding='same',\n",
        "                 activation='relu',\n",
        "                 strides=1))"
      ],
      "metadata": {
        "id": "lS4YblYk7kHX"
      },
      "execution_count": 45,
      "outputs": []
    },
    {
      "cell_type": "code",
      "source": [
        "model3.add(GlobalMaxPooling1D())"
      ],
      "metadata": {
        "id": "5qSO9rhG7m5v"
      },
      "execution_count": 46,
      "outputs": []
    },
    {
      "cell_type": "code",
      "source": [
        "model3.add(Dense(250))\n",
        "model3.add(Activation('relu'))"
      ],
      "metadata": {
        "id": "gKIsVcLR7pB-"
      },
      "execution_count": 47,
      "outputs": []
    },
    {
      "cell_type": "code",
      "source": [
        "model3.add(Dense(1, activation='softmax'))"
      ],
      "metadata": {
        "id": "P0T2BKDX7ru2"
      },
      "execution_count": 48,
      "outputs": []
    },
    {
      "cell_type": "code",
      "source": [
        "model3.compile(loss='binary_crossentropy',\n",
        "              optimizer='adam',\n",
        "              metrics=['accuracy'])      "
      ],
      "metadata": {
        "id": "3uQ-Hlsf7t_m"
      },
      "execution_count": 49,
      "outputs": []
    },
    {
      "cell_type": "code",
      "source": [
        "history = model3.fit(xtrain, ytrain,\n",
        "                    batch_size=32,\n",
        "                    epochs=10,\n",
        "                    validation_data=(xtest, ytest))"
      ],
      "metadata": {
        "colab": {
          "base_uri": "https://localhost:8080/"
        },
        "id": "Ceu8pMZ87xdW",
        "outputId": "21795a0c-49e8-41d2-fb00-77601b20070f"
      },
      "execution_count": 50,
      "outputs": [
        {
          "output_type": "stream",
          "name": "stdout",
          "text": [
            "Epoch 1/10\n",
            "145/145 [==============================] - 153s 1s/step - loss: 0.5947 - accuracy: 0.6367 - val_loss: 0.6000 - val_accuracy: 0.6350\n",
            "Epoch 2/10\n",
            "145/145 [==============================] - 140s 969ms/step - loss: 0.5919 - accuracy: 0.6367 - val_loss: 0.6069 - val_accuracy: 0.6350\n",
            "Epoch 3/10\n",
            "145/145 [==============================] - 140s 969ms/step - loss: 0.5889 - accuracy: 0.6367 - val_loss: 0.5914 - val_accuracy: 0.6350\n",
            "Epoch 4/10\n",
            "145/145 [==============================] - 138s 954ms/step - loss: 0.5889 - accuracy: 0.6367 - val_loss: 0.6152 - val_accuracy: 0.6350\n",
            "Epoch 5/10\n",
            "145/145 [==============================] - 140s 965ms/step - loss: 0.5888 - accuracy: 0.6367 - val_loss: 0.5846 - val_accuracy: 0.6350\n",
            "Epoch 6/10\n",
            "145/145 [==============================] - 137s 948ms/step - loss: 0.5900 - accuracy: 0.6367 - val_loss: 0.5970 - val_accuracy: 0.6350\n",
            "Epoch 7/10\n",
            "145/145 [==============================] - 144s 993ms/step - loss: 0.5896 - accuracy: 0.6367 - val_loss: 0.5865 - val_accuracy: 0.6350\n",
            "Epoch 8/10\n",
            "145/145 [==============================] - 138s 949ms/step - loss: 0.5926 - accuracy: 0.6367 - val_loss: 0.5882 - val_accuracy: 0.6350\n",
            "Epoch 9/10\n",
            "145/145 [==============================] - 138s 955ms/step - loss: 0.5880 - accuracy: 0.6367 - val_loss: 0.5904 - val_accuracy: 0.6350\n",
            "Epoch 10/10\n",
            "145/145 [==============================] - 144s 995ms/step - loss: 0.5883 - accuracy: 0.6367 - val_loss: 0.5876 - val_accuracy: 0.6350\n"
          ]
        }
      ]
    },
    {
      "cell_type": "code",
      "source": [
        "result.append(getClassificationResult(model3,xtest,ytest))"
      ],
      "metadata": {
        "colab": {
          "base_uri": "https://localhost:8080/"
        },
        "id": "EZ2R-dyQW5zT",
        "outputId": "895d1cea-9fb9-4485-d79b-b671f4c3decb"
      },
      "execution_count": 65,
      "outputs": [
        {
          "output_type": "stream",
          "name": "stderr",
          "text": [
            "/usr/local/lib/python3.7/dist-packages/sklearn/metrics/_classification.py:1318: UndefinedMetricWarning: Precision is ill-defined and being set to 0.0 in labels with no predicted samples. Use `zero_division` parameter to control this behavior.\n",
            "  _warn_prf(average, modifier, msg_start, len(result))\n"
          ]
        }
      ]
    },
    {
      "cell_type": "code",
      "source": [
        "result"
      ],
      "metadata": {
        "colab": {
          "base_uri": "https://localhost:8080/"
        },
        "id": "D2Prq1NdBh44",
        "outputId": "09aae0f7-6282-432f-ff7b-5af48f8c1aef"
      },
      "execution_count": 63,
      "outputs": [
        {
          "output_type": "execute_result",
          "data": {
            "text/plain": [
              "[(<keras.engine.sequential.Sequential at 0x7f46fa118110>,\n",
              "  0.7903,\n",
              "  0.7876,\n",
              "  0.7903,\n",
              "  0.7878),\n",
              " (<keras.engine.sequential.Sequential at 0x7f468be05650>,\n",
              "  0.7679,\n",
              "  0.7638,\n",
              "  0.7679,\n",
              "  0.7643),\n",
              " (<keras.engine.sequential.Sequential at 0x7f468c128d10>, 0.0, 0.0, 0.0, 0.0),\n",
              " (<keras.engine.sequential.Sequential at 0x7f468c128d10>,\n",
              "  0.635,\n",
              "  0.4033,\n",
              "  0.635,\n",
              "  0.4933)]"
            ]
          },
          "metadata": {},
          "execution_count": 63
        }
      ]
    },
    {
      "cell_type": "markdown",
      "source": [
        "#### Result"
      ],
      "metadata": {
        "id": "QD2vJadEF2hl"
      }
    },
    {
      "cell_type": "code",
      "source": [
        "print(\"Model1 Accuracy,Precision,Recall,F1Score: \",result[0][1],result[0][2],result[0][3],result[0][4])\n",
        "print(\"Model2 Accuracy,Precision,Recall,F1Score: \",result[1][1],result[1][2],result[1][3],result[1][4])\n",
        "print(\"Model3 Accuracy,Precision,Recall,F1Score: \",result[2][1],result[2][2],result[2][3],result[2][4])"
      ],
      "metadata": {
        "colab": {
          "base_uri": "https://localhost:8080/"
        },
        "id": "6vkoQ7poE2QF",
        "outputId": "68f0cb7d-62ef-4f1c-c52a-6560ad08a5fd"
      },
      "execution_count": 68,
      "outputs": [
        {
          "output_type": "stream",
          "name": "stdout",
          "text": [
            "Model1 Accuracy,Precision,Recall,F1Score:  0.7903 0.7876 0.7903 0.7878\n",
            "Model2 Accuracy,Precision,Recall,F1Score:  0.7679 0.7638 0.7679 0.7643\n",
            "Model3 Accuracy,Precision,Recall,F1Score:  0.635 0.4033 0.635 0.4933\n"
          ]
        }
      ]
    },
    {
      "cell_type": "markdown",
      "source": [
        "Result Comparison"
      ],
      "metadata": {
        "id": "UdkKkWt6F6Ie"
      }
    },
    {
      "cell_type": "code",
      "source": [
        "import numpy as np\n",
        "import matplotlib.pyplot as plt\n",
        "\n",
        "index = np.arange(5)\n",
        "bar_width = 0.35\n",
        "\n",
        "data={'accuracy':[result[0][1],result[1][1],result[2][1]],'precision':[result[0][2],result[1][2],result[2][2]],'recall':[result[0][3],result[1][3],result[2][3]],'f1-score':[result[0][4],result[1][4],result[2][4]],'Model':['TF-IDF & ANN','BoW & ANN','Embedding & CNN']}\n",
        "df = pd.DataFrame(data)\n",
        "\n",
        "ax = df[[\"Model\",\"accuracy\", \"precision\", \"recall\", \"f1-score\"]].plot(x='Model', \n",
        "                                                      kind='bar', \n",
        "                                                      color=[\"g\",\"y\",\"r\",\"b\"],\n",
        "                                                      rot=45,figsize=(10,6))\n",
        "ax.set_ylabel('Score')\n",
        "ax.legend([\"accuracy\", \"precision\",\"recall\", \"f1-score\"],bbox_to_anchor = (1.05, 0.6));\n"
      ],
      "metadata": {
        "colab": {
          "base_uri": "https://localhost:8080/",
          "height": 451
        },
        "id": "BT3Tuz7vHiMt",
        "outputId": "568af64a-8229-4cd0-87eb-5843839adaf9"
      },
      "execution_count": 82,
      "outputs": [
        {
          "output_type": "display_data",
          "data": {
            "image/png": "[encoded data removed]",
            "text/plain": [
              "<Figure size 720x432 with 1 Axes>"
            ]
          },
          "metadata": {
            "needs_background": "light"
          }
        }
      ]
    },
    {
      "cell_type": "markdown",
      "source": [
        "#### Result: \n",
        "\n",
        "\n",
        "*   TF+IDF with ANN model performs better result than other (79% Accuracy)\n",
        "*   Increasing no of epoch and hidden layer may increase performance.\n",
        "*   1d CNN performs less\n",
        "\n",
        "\n"
      ],
      "metadata": {
        "id": "J6PQVD-8K_TT"
      }
    }
  ]
}