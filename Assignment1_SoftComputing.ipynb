{
  "cells": [
    {
      "cell_type": "code",
      "execution_count": null,
      "metadata": {
        "id": "aICpRzaEvghm"
      },
      "outputs": [],
      "source": [
        "import glob\n",
        "from glob import glob\n",
        "import pandas as pd\n",
        "import numpy as np\n",
        "from sklearn.utils import shuffle\n",
        "import cv2\n",
        "from PIL import Image\n",
        "from numpy import asarray\n",
        "from tensorflow import keras\n",
        "import os\n",
        "import numpy as np\n",
        "import matplotlib.pyplot as plt\n",
        "from tqdm import tqdm\n",
        "import pandas as pd"
      ]
    },
    {
      "cell_type": "code",
      "execution_count": null,
      "metadata": {
        "id": "oNXRR_XIx8vt",
        "colab": {
          "base_uri": "https://localhost:8080/"
        },
        "outputId": "21dfbc48-0456-4454-a5d7-68d99ae6ca38"
      },
      "outputs": [
        {
          "output_type": "stream",
          "name": "stdout",
          "text": [
            "Mounted at /content/drive\n"
          ]
        }
      ],
      "source": [
        "df_dir= '/content/drive/MyDrive/Assignment1_Dataset/firmware/firmware.csv'\n",
        "train_data_dir = '/content/drive/MyDrive/Assignment1_Dataset/imagery'\n",
        "\n",
        "from google.colab import drive\n",
        "drive.mount('/content/drive')"
      ]
    },
    {
      "cell_type": "code",
      "execution_count": null,
      "metadata": {
        "id": "Q4piFybIvgkj"
      },
      "outputs": [],
      "source": [
        "df=pd.read_csv(df_dir)\n",
        "CATEGORIES=list(df['class'].unique())\n",
        "#CATEGORIES = [x.split(\"/\")[-1] for x in glob(train_data_dir+'/*')]"
      ]
    },
    {
      "cell_type": "code",
      "execution_count": null,
      "metadata": {
        "id": "CKhnY8N_EEoZ"
      },
      "outputs": [],
      "source": [
        "training_data = []\n",
        "def create_training_data():\n",
        "  for filename,classname in zip(df['filename'],df['class']):\n",
        "      path=os.path.join(train_data_dir,classname,filename)+\".jpg\"\n",
        "      class_num = CATEGORIES.index(classname)  \n",
        "      \n",
        "      \n",
        "      try:\n",
        "                  img_array = cv2.imread(path)  \n",
        "                  new_array = cv2.resize(img_array, (300, 300))\n",
        "                  training_data.append([new_array, class_num])  \n",
        "                  \n",
        "      except Exception as e:  \n",
        "            pass\n",
        "              \n",
        "\n",
        "create_training_data()\n"
      ]
    },
    {
      "cell_type": "code",
      "execution_count": null,
      "metadata": {
        "colab": {
          "base_uri": "https://localhost:8080/"
        },
        "id": "4QSZkIgeHKNN",
        "outputId": "b60f69c0-def8-49c6-e1db-2b0f4562dc43"
      },
      "outputs": [
        {
          "output_type": "execute_result",
          "data": {
            "text/plain": [
              "3813"
            ]
          },
          "metadata": {},
          "execution_count": 5
        }
      ],
      "source": [
        "len(training_data)"
      ]
    },
    {
      "cell_type": "code",
      "execution_count": null,
      "metadata": {
        "colab": {
          "base_uri": "https://localhost:8080/"
        },
        "id": "vjAjMFJHxDIU",
        "outputId": "c27f7038-1e34-4916-c044-5be40047a6f2"
      },
      "outputs": [
        {
          "output_type": "execute_result",
          "data": {
            "text/plain": [
              "['malware', 'hackware', 'benignware']"
            ]
          },
          "metadata": {},
          "execution_count": 6
        }
      ],
      "source": [
        "CATEGORIES"
      ]
    },
    {
      "cell_type": "code",
      "execution_count": null,
      "metadata": {
        "id": "2LaZyPz30-c6"
      },
      "outputs": [],
      "source": [
        "training_data = []\n",
        "\n",
        "def create_training_data():\n",
        "    for category in CATEGORIES:  \n",
        "\n",
        "        path = os.path.join(train_data_dir,category)  \n",
        "        class_num = CATEGORIES.index(category)  \n",
        "\n",
        "        for img in tqdm(os.listdir(path)):  \n",
        "            try:\n",
        "                img_array = cv2.imread(os.path.join(path,img) ,cv2.IMREAD_GRAYSCALE)  \n",
        "                new_array = cv2.resize(img_array, (300, 300))\n",
        "                training_data.append([new_array, class_num])  \n",
        "                \n",
        "            except Exception as e:  \n",
        "                pass\n",
        "            \n",
        "\n",
        "create_training_data()"
      ]
    },
    {
      "cell_type": "code",
      "execution_count": null,
      "metadata": {
        "id": "qQwjcOLM6Ngi"
      },
      "outputs": [],
      "source": [
        "X=[]\n",
        "Y=[]\n",
        "for value in training_data:\n",
        "    X.append(value[0])\n",
        "    Y.append(value[1]) \n",
        "X=np.array(X)\n",
        "Y=np.array(Y)    "
      ]
    },
    {
      "cell_type": "code",
      "execution_count": null,
      "metadata": {
        "id": "MGbTR3C66pg4"
      },
      "outputs": [],
      "source": [
        "from sklearn.model_selection import train_test_split\n",
        "X_train, X_test, Y_train, Y_test = train_test_split(X, Y, test_size=0.2)"
      ]
    },
    {
      "cell_type": "code",
      "execution_count": null,
      "metadata": {
        "id": "8XBCmNYapSwC"
      },
      "outputs": [],
      "source": [
        "from tensorflow.keras.models import Sequential\n",
        "from tensorflow.keras.layers import Dense,Dropout,Activation,Flatten\n",
        "from tensorflow.keras.optimizers import Adam\n",
        "from sklearn import metrics\n",
        "from tensorflow.keras.utils import to_categorical\n",
        "from sklearn.preprocessing import LabelEncoder\n",
        "labelEncoder= LabelEncoder()"
      ]
    },
    {
      "cell_type": "code",
      "execution_count": null,
      "metadata": {
        "id": "Lmvy_5_3j5MT"
      },
      "outputs": [],
      "source": [
        "model1=Sequential()\n",
        "#first layer\n",
        "model1.add(Dense(100,input_shape=(270000,)))\n",
        "model1.add(Activation('relu'))\n",
        "model1.add(Dropout(0.2))\n",
        "\n",
        "#second layer\n",
        "model1.add(Dense(100))\n",
        "model1.add(Activation('relu'))\n",
        "model1.add(Dropout(0.1))\n",
        "\n",
        "#third layer\n",
        "model1.add(Dense(100))\n",
        "model1.add(Activation('relu'))\n",
        "model1.add(Dropout(0.1))\n",
        "\n",
        "#fourth layer\n",
        "model1.add(Dense(100))\n",
        "model1.add(Activation('relu'))\n",
        "model1.add(Dropout(0.1))\n",
        "\n",
        "#fifth layer\n",
        "model1.add(Dense(100))\n",
        "model1.add(Activation('relu'))\n",
        "model1.add(Dropout(0.1))\n",
        "\n",
        "\n",
        "\n",
        "#final layer\n",
        "model1.add(Dense(3))\n",
        "model1.add(Activation('softmax'))"
      ]
    },
    {
      "cell_type": "code",
      "execution_count": null,
      "metadata": {
        "colab": {
          "base_uri": "https://localhost:8080/"
        },
        "id": "TRFlzucXkD-c",
        "outputId": "dca5cd32-003f-4c74-e195-cb7f02f0bf9c"
      },
      "outputs": [
        {
          "output_type": "stream",
          "name": "stderr",
          "text": [
            "/usr/local/lib/python3.7/dist-packages/keras/optimizer_v2/adam.py:105: UserWarning: The `lr` argument is deprecated, use `learning_rate` instead.\n",
            "  super(Adam, self).__init__(name, **kwargs)\n"
          ]
        }
      ],
      "source": [
        "optimizer = keras.optimizers.Adam(lr=0.001)\n",
        "model1.compile(loss='categorical_crossentropy',metrics=['accuracy'],optimizer=optimizer)"
      ]
    },
    {
      "cell_type": "code",
      "execution_count": null,
      "metadata": {
        "colab": {
          "base_uri": "https://localhost:8080/"
        },
        "id": "AcfO1NEzvUOB",
        "outputId": "1d8b57e9-2676-4b13-dc49-c6ea081a39d5"
      },
      "outputs": [
        {
          "output_type": "execute_result",
          "data": {
            "text/plain": [
              "(3050, 270000)"
            ]
          },
          "metadata": {},
          "execution_count": 12
        }
      ],
      "source": [
        "X_train_new=[]\n",
        "X_test_new=[]\n",
        "for value in X_train:\n",
        "    X_train_new.append(value.flatten())\n",
        "for value in X_test:\n",
        "    X_test_new.append(value.flatten())  \n",
        "\n",
        "X_train_new=np.array(X_train_new)\n",
        "X_test_new=np.array(X_test_new)\n",
        "Y_train_new=to_categorical(labelEncoder.fit_transform(Y_train))\n",
        "Y_test_new=to_categorical(labelEncoder.fit_transform(Y_test))\n",
        "X_train_new.shape"
      ]
    },
    {
      "cell_type": "code",
      "execution_count": null,
      "metadata": {
        "colab": {
          "base_uri": "https://localhost:8080/"
        },
        "id": "LE5ApwyIkVOw",
        "outputId": "5a4a1fc8-6121-4455-e788-e0300865f459"
      },
      "outputs": [
        {
          "output_type": "stream",
          "name": "stdout",
          "text": [
            "Epoch 1/100\n",
            "153/153 [==============================] - 6s 28ms/step - loss: 38.3186 - accuracy: 0.6708 - val_loss: 0.7118 - val_accuracy: 0.7785\n",
            "Epoch 2/100\n",
            "153/153 [==============================] - 5s 32ms/step - loss: 0.5907 - accuracy: 0.7879 - val_loss: 0.5291 - val_accuracy: 0.7785\n",
            "Epoch 3/100\n",
            "153/153 [==============================] - 5s 34ms/step - loss: 0.5642 - accuracy: 0.7879 - val_loss: 0.5815 - val_accuracy: 0.7785\n",
            "Epoch 4/100\n",
            "153/153 [==============================] - 5s 32ms/step - loss: 0.5539 - accuracy: 0.7885 - val_loss: 0.5551 - val_accuracy: 0.7785\n",
            "Epoch 5/100\n",
            "153/153 [==============================] - 4s 29ms/step - loss: 0.5505 - accuracy: 0.7879 - val_loss: 0.5532 - val_accuracy: 0.7785\n",
            "Epoch 6/100\n",
            "153/153 [==============================] - 4s 26ms/step - loss: 0.5483 - accuracy: 0.7882 - val_loss: 0.5513 - val_accuracy: 0.7785\n",
            "Epoch 7/100\n",
            "153/153 [==============================] - 5s 34ms/step - loss: 0.5728 - accuracy: 0.7875 - val_loss: 0.5753 - val_accuracy: 0.7785\n",
            "Epoch 8/100\n",
            "153/153 [==============================] - 5s 36ms/step - loss: 0.5760 - accuracy: 0.7882 - val_loss: 0.5904 - val_accuracy: 0.7785\n",
            "Epoch 9/100\n",
            "153/153 [==============================] - 4s 29ms/step - loss: 0.6037 - accuracy: 0.7885 - val_loss: 0.5979 - val_accuracy: 0.7785\n",
            "Epoch 10/100\n",
            "153/153 [==============================] - 4s 24ms/step - loss: 0.5997 - accuracy: 0.7882 - val_loss: 0.5982 - val_accuracy: 0.7785\n",
            "Epoch 11/100\n",
            "153/153 [==============================] - 4s 23ms/step - loss: 0.6022 - accuracy: 0.7885 - val_loss: 0.5962 - val_accuracy: 0.7785\n",
            "Epoch 12/100\n",
            "153/153 [==============================] - 4s 27ms/step - loss: 0.5942 - accuracy: 0.7885 - val_loss: 0.5937 - val_accuracy: 0.7785\n",
            "Epoch 13/100\n",
            "153/153 [==============================] - 4s 28ms/step - loss: 0.5966 - accuracy: 0.7885 - val_loss: 0.5971 - val_accuracy: 0.7785\n",
            "Epoch 14/100\n",
            "153/153 [==============================] - 5s 30ms/step - loss: 0.5935 - accuracy: 0.7885 - val_loss: 0.5968 - val_accuracy: 0.7785\n",
            "Epoch 15/100\n",
            "153/153 [==============================] - 5s 33ms/step - loss: 1.1810 - accuracy: 0.7879 - val_loss: 0.6020 - val_accuracy: 0.7785\n",
            "Epoch 16/100\n",
            "153/153 [==============================] - 4s 29ms/step - loss: 0.5988 - accuracy: 0.7885 - val_loss: 0.6028 - val_accuracy: 0.7785\n",
            "Epoch 17/100\n",
            "153/153 [==============================] - 3s 23ms/step - loss: 0.6006 - accuracy: 0.7885 - val_loss: 0.6008 - val_accuracy: 0.7785\n",
            "Epoch 18/100\n",
            "153/153 [==============================] - 3s 22ms/step - loss: 0.6003 - accuracy: 0.7885 - val_loss: 0.6002 - val_accuracy: 0.7785\n",
            "Epoch 19/100\n",
            "153/153 [==============================] - 3s 23ms/step - loss: 0.5994 - accuracy: 0.7885 - val_loss: 0.6003 - val_accuracy: 0.7785\n",
            "Epoch 20/100\n",
            "153/153 [==============================] - 4s 23ms/step - loss: 0.6185 - accuracy: 0.7882 - val_loss: 0.6050 - val_accuracy: 0.7785\n",
            "Epoch 21/100\n",
            "153/153 [==============================] - 3s 23ms/step - loss: 0.6010 - accuracy: 0.7885 - val_loss: 0.6052 - val_accuracy: 0.7785\n",
            "Epoch 22/100\n",
            "153/153 [==============================] - 4s 23ms/step - loss: 0.6014 - accuracy: 0.7885 - val_loss: 0.6052 - val_accuracy: 0.7785\n",
            "Epoch 23/100\n",
            "153/153 [==============================] - 4s 23ms/step - loss: 0.6004 - accuracy: 0.7885 - val_loss: 0.6051 - val_accuracy: 0.7785\n",
            "Epoch 24/100\n",
            "153/153 [==============================] - 3s 22ms/step - loss: 0.6001 - accuracy: 0.7885 - val_loss: 0.6051 - val_accuracy: 0.7785\n",
            "Epoch 25/100\n",
            "153/153 [==============================] - 4s 23ms/step - loss: 0.5976 - accuracy: 0.7885 - val_loss: 0.6053 - val_accuracy: 0.7785\n",
            "Epoch 26/100\n",
            "153/153 [==============================] - 3s 22ms/step - loss: 0.6045 - accuracy: 0.7885 - val_loss: 0.6052 - val_accuracy: 0.7785\n",
            "Epoch 27/100\n",
            "153/153 [==============================] - 3s 22ms/step - loss: 0.5994 - accuracy: 0.7885 - val_loss: 0.6050 - val_accuracy: 0.7785\n",
            "Epoch 28/100\n",
            "153/153 [==============================] - 4s 26ms/step - loss: 0.5984 - accuracy: 0.7885 - val_loss: 0.6048 - val_accuracy: 0.7785\n",
            "Epoch 29/100\n",
            "153/153 [==============================] - 3s 23ms/step - loss: 0.5978 - accuracy: 0.7885 - val_loss: 0.6050 - val_accuracy: 0.7785\n",
            "Epoch 30/100\n",
            "153/153 [==============================] - 3s 23ms/step - loss: 0.5996 - accuracy: 0.7885 - val_loss: 0.6052 - val_accuracy: 0.7785\n",
            "Epoch 31/100\n",
            "153/153 [==============================] - 4s 23ms/step - loss: 0.5986 - accuracy: 0.7885 - val_loss: 0.6052 - val_accuracy: 0.7785\n",
            "Epoch 32/100\n",
            "153/153 [==============================] - 4s 23ms/step - loss: 0.5999 - accuracy: 0.7885 - val_loss: 0.6049 - val_accuracy: 0.7785\n",
            "Epoch 33/100\n",
            "153/153 [==============================] - 4s 23ms/step - loss: 0.6007 - accuracy: 0.7885 - val_loss: 0.6049 - val_accuracy: 0.7785\n",
            "Epoch 34/100\n",
            "153/153 [==============================] - 4s 23ms/step - loss: 0.6010 - accuracy: 0.7885 - val_loss: 0.6055 - val_accuracy: 0.7785\n",
            "Epoch 35/100\n",
            "153/153 [==============================] - 3s 23ms/step - loss: 0.5978 - accuracy: 0.7885 - val_loss: 0.6049 - val_accuracy: 0.7785\n",
            "Epoch 36/100\n",
            "153/153 [==============================] - 4s 23ms/step - loss: 0.6019 - accuracy: 0.7885 - val_loss: 0.6050 - val_accuracy: 0.7785\n",
            "Epoch 37/100\n",
            "153/153 [==============================] - 4s 27ms/step - loss: 0.6005 - accuracy: 0.7885 - val_loss: 0.6050 - val_accuracy: 0.7785\n",
            "Epoch 38/100\n",
            "153/153 [==============================] - 4s 24ms/step - loss: 0.6004 - accuracy: 0.7885 - val_loss: 0.6049 - val_accuracy: 0.7785\n",
            "Epoch 39/100\n",
            "153/153 [==============================] - 4s 23ms/step - loss: 0.5979 - accuracy: 0.7885 - val_loss: 0.6049 - val_accuracy: 0.7785\n",
            "Epoch 40/100\n",
            "153/153 [==============================] - 4s 23ms/step - loss: 0.5989 - accuracy: 0.7885 - val_loss: 0.6053 - val_accuracy: 0.7785\n",
            "Epoch 41/100\n",
            "153/153 [==============================] - 3s 23ms/step - loss: 0.6003 - accuracy: 0.7885 - val_loss: 0.6051 - val_accuracy: 0.7785\n",
            "Epoch 42/100\n",
            "153/153 [==============================] - 3s 23ms/step - loss: 0.5986 - accuracy: 0.7885 - val_loss: 0.6054 - val_accuracy: 0.7785\n",
            "Epoch 43/100\n",
            "153/153 [==============================] - 3s 23ms/step - loss: 0.5994 - accuracy: 0.7885 - val_loss: 0.6052 - val_accuracy: 0.7785\n",
            "Epoch 44/100\n",
            "153/153 [==============================] - 3s 22ms/step - loss: 0.5989 - accuracy: 0.7885 - val_loss: 0.6050 - val_accuracy: 0.7785\n",
            "Epoch 45/100\n",
            "153/153 [==============================] - 3s 23ms/step - loss: 0.5989 - accuracy: 0.7885 - val_loss: 0.6046 - val_accuracy: 0.7785\n",
            "Epoch 46/100\n",
            "153/153 [==============================] - 3s 23ms/step - loss: 0.5982 - accuracy: 0.7885 - val_loss: 0.6048 - val_accuracy: 0.7785\n",
            "Epoch 47/100\n",
            "153/153 [==============================] - 3s 23ms/step - loss: 0.5976 - accuracy: 0.7885 - val_loss: 0.6052 - val_accuracy: 0.7785\n",
            "Epoch 48/100\n",
            "153/153 [==============================] - 3s 22ms/step - loss: 0.6004 - accuracy: 0.7885 - val_loss: 0.6052 - val_accuracy: 0.7785\n",
            "Epoch 49/100\n",
            "153/153 [==============================] - 4s 23ms/step - loss: 0.5986 - accuracy: 0.7885 - val_loss: 0.6056 - val_accuracy: 0.7785\n",
            "Epoch 50/100\n",
            "153/153 [==============================] - 3s 23ms/step - loss: 0.5971 - accuracy: 0.7885 - val_loss: 0.6050 - val_accuracy: 0.7785\n",
            "Epoch 51/100\n",
            "153/153 [==============================] - 3s 22ms/step - loss: 0.5981 - accuracy: 0.7885 - val_loss: 0.6052 - val_accuracy: 0.7785\n",
            "Epoch 52/100\n",
            "153/153 [==============================] - 3s 23ms/step - loss: 0.5978 - accuracy: 0.7885 - val_loss: 0.6055 - val_accuracy: 0.7785\n",
            "Epoch 53/100\n",
            "153/153 [==============================] - 4s 23ms/step - loss: 0.5990 - accuracy: 0.7885 - val_loss: 0.6047 - val_accuracy: 0.7785\n",
            "Epoch 54/100\n",
            "153/153 [==============================] - 4s 23ms/step - loss: 0.5980 - accuracy: 0.7885 - val_loss: 0.6050 - val_accuracy: 0.7785\n",
            "Epoch 55/100\n",
            "153/153 [==============================] - 4s 23ms/step - loss: 0.5966 - accuracy: 0.7885 - val_loss: 0.6054 - val_accuracy: 0.7785\n",
            "Epoch 56/100\n",
            "153/153 [==============================] - 4s 23ms/step - loss: 0.5983 - accuracy: 0.7885 - val_loss: 0.6052 - val_accuracy: 0.7785\n",
            "Epoch 57/100\n",
            "153/153 [==============================] - 4s 23ms/step - loss: 0.5987 - accuracy: 0.7885 - val_loss: 0.6059 - val_accuracy: 0.7785\n",
            "Epoch 58/100\n",
            "153/153 [==============================] - 4s 26ms/step - loss: 0.5977 - accuracy: 0.7885 - val_loss: 0.6051 - val_accuracy: 0.7785\n",
            "Epoch 59/100\n",
            "153/153 [==============================] - 4s 23ms/step - loss: 0.5973 - accuracy: 0.7885 - val_loss: 0.6058 - val_accuracy: 0.7785\n",
            "Epoch 60/100\n",
            "153/153 [==============================] - 3s 23ms/step - loss: 0.6002 - accuracy: 0.7885 - val_loss: 0.6049 - val_accuracy: 0.7785\n",
            "Epoch 61/100\n",
            "153/153 [==============================] - 3s 22ms/step - loss: 0.5969 - accuracy: 0.7885 - val_loss: 0.6059 - val_accuracy: 0.7785\n",
            "Epoch 62/100\n",
            "153/153 [==============================] - 3s 23ms/step - loss: 0.5980 - accuracy: 0.7885 - val_loss: 0.6050 - val_accuracy: 0.7785\n",
            "Epoch 63/100\n",
            "153/153 [==============================] - 3s 23ms/step - loss: 0.5973 - accuracy: 0.7885 - val_loss: 0.6070 - val_accuracy: 0.7785\n",
            "Epoch 64/100\n",
            "153/153 [==============================] - 4s 23ms/step - loss: 0.5976 - accuracy: 0.7885 - val_loss: 0.6059 - val_accuracy: 0.7785\n",
            "Epoch 65/100\n",
            "153/153 [==============================] - 3s 23ms/step - loss: 0.5981 - accuracy: 0.7885 - val_loss: 0.6050 - val_accuracy: 0.7785\n",
            "Epoch 66/100\n",
            "153/153 [==============================] - 3s 23ms/step - loss: 0.5965 - accuracy: 0.7885 - val_loss: 0.6051 - val_accuracy: 0.7785\n",
            "Epoch 67/100\n",
            "153/153 [==============================] - 4s 26ms/step - loss: 0.5981 - accuracy: 0.7885 - val_loss: 0.6070 - val_accuracy: 0.7785\n",
            "Epoch 68/100\n",
            "153/153 [==============================] - 4s 23ms/step - loss: 0.5980 - accuracy: 0.7885 - val_loss: 0.6050 - val_accuracy: 0.7785\n",
            "Epoch 69/100\n",
            "153/153 [==============================] - 3s 23ms/step - loss: 0.5968 - accuracy: 0.7885 - val_loss: 0.6045 - val_accuracy: 0.7785\n",
            "Epoch 70/100\n",
            "153/153 [==============================] - 3s 23ms/step - loss: 0.5956 - accuracy: 0.7885 - val_loss: 0.6050 - val_accuracy: 0.7785\n",
            "Epoch 71/100\n",
            "153/153 [==============================] - 3s 22ms/step - loss: 0.6001 - accuracy: 0.7885 - val_loss: 0.6051 - val_accuracy: 0.7785\n",
            "Epoch 72/100\n",
            "153/153 [==============================] - 4s 23ms/step - loss: 0.5997 - accuracy: 0.7885 - val_loss: 0.6050 - val_accuracy: 0.7785\n",
            "Epoch 73/100\n",
            "153/153 [==============================] - 4s 23ms/step - loss: 0.5981 - accuracy: 0.7885 - val_loss: 0.6052 - val_accuracy: 0.7785\n",
            "Epoch 74/100\n",
            "153/153 [==============================] - 4s 23ms/step - loss: 0.5987 - accuracy: 0.7885 - val_loss: 0.6048 - val_accuracy: 0.7785\n",
            "Epoch 75/100\n",
            "153/153 [==============================] - 4s 23ms/step - loss: 0.5964 - accuracy: 0.7885 - val_loss: 0.6048 - val_accuracy: 0.7785\n",
            "Epoch 76/100\n",
            "153/153 [==============================] - 4s 23ms/step - loss: 0.5970 - accuracy: 0.7885 - val_loss: 0.6050 - val_accuracy: 0.7785\n",
            "Epoch 77/100\n",
            "153/153 [==============================] - 3s 23ms/step - loss: 0.5983 - accuracy: 0.7885 - val_loss: 0.6050 - val_accuracy: 0.7785\n",
            "Epoch 78/100\n",
            "153/153 [==============================] - 4s 23ms/step - loss: 0.5972 - accuracy: 0.7885 - val_loss: 0.6072 - val_accuracy: 0.7785\n",
            "Epoch 79/100\n",
            "153/153 [==============================] - 3s 23ms/step - loss: 0.5982 - accuracy: 0.7885 - val_loss: 0.6051 - val_accuracy: 0.7785\n",
            "Epoch 80/100\n",
            "153/153 [==============================] - 3s 23ms/step - loss: 0.5981 - accuracy: 0.7885 - val_loss: 0.6059 - val_accuracy: 0.7785\n",
            "Epoch 81/100\n",
            "153/153 [==============================] - 3s 23ms/step - loss: 0.5965 - accuracy: 0.7885 - val_loss: 0.6051 - val_accuracy: 0.7785\n",
            "Epoch 82/100\n",
            "153/153 [==============================] - 4s 23ms/step - loss: 0.5983 - accuracy: 0.7885 - val_loss: 0.6056 - val_accuracy: 0.7785\n",
            "Epoch 83/100\n",
            "153/153 [==============================] - 3s 23ms/step - loss: 0.5986 - accuracy: 0.7885 - val_loss: 0.6049 - val_accuracy: 0.7785\n",
            "Epoch 84/100\n",
            "153/153 [==============================] - 3s 23ms/step - loss: 0.5993 - accuracy: 0.7885 - val_loss: 0.6045 - val_accuracy: 0.7785\n",
            "Epoch 85/100\n",
            "153/153 [==============================] - 3s 23ms/step - loss: 0.5972 - accuracy: 0.7885 - val_loss: 0.6062 - val_accuracy: 0.7785\n",
            "Epoch 86/100\n",
            "153/153 [==============================] - 3s 23ms/step - loss: 0.5967 - accuracy: 0.7885 - val_loss: 0.6051 - val_accuracy: 0.7785\n",
            "Epoch 87/100\n",
            "153/153 [==============================] - 4s 23ms/step - loss: 0.5995 - accuracy: 0.7885 - val_loss: 0.6056 - val_accuracy: 0.7785\n",
            "Epoch 88/100\n",
            "153/153 [==============================] - 4s 26ms/step - loss: 0.5978 - accuracy: 0.7885 - val_loss: 0.6046 - val_accuracy: 0.7785\n",
            "Epoch 89/100\n",
            "153/153 [==============================] - 4s 26ms/step - loss: 0.5973 - accuracy: 0.7885 - val_loss: 0.6052 - val_accuracy: 0.7785\n",
            "Epoch 90/100\n",
            "153/153 [==============================] - 4s 23ms/step - loss: 0.5976 - accuracy: 0.7885 - val_loss: 0.6050 - val_accuracy: 0.7785\n",
            "Epoch 91/100\n",
            "153/153 [==============================] - 3s 23ms/step - loss: 0.5980 - accuracy: 0.7885 - val_loss: 0.6047 - val_accuracy: 0.7785\n",
            "Epoch 92/100\n",
            "153/153 [==============================] - 4s 23ms/step - loss: 0.5972 - accuracy: 0.7885 - val_loss: 0.6049 - val_accuracy: 0.7785\n",
            "Epoch 93/100\n",
            "153/153 [==============================] - 4s 23ms/step - loss: 0.5974 - accuracy: 0.7885 - val_loss: 0.6067 - val_accuracy: 0.7785\n",
            "Epoch 94/100\n",
            "153/153 [==============================] - 3s 23ms/step - loss: 0.5980 - accuracy: 0.7885 - val_loss: 0.6047 - val_accuracy: 0.7785\n",
            "Epoch 95/100\n",
            "153/153 [==============================] - 3s 23ms/step - loss: 0.5945 - accuracy: 0.7885 - val_loss: 0.6054 - val_accuracy: 0.7785\n",
            "Epoch 96/100\n",
            "153/153 [==============================] - 4s 23ms/step - loss: 0.5952 - accuracy: 0.7885 - val_loss: 0.6054 - val_accuracy: 0.7785\n",
            "Epoch 97/100\n",
            "153/153 [==============================] - 3s 23ms/step - loss: 0.5972 - accuracy: 0.7885 - val_loss: 0.6054 - val_accuracy: 0.7785\n",
            "Epoch 98/100\n",
            "153/153 [==============================] - 3s 23ms/step - loss: 0.5964 - accuracy: 0.7885 - val_loss: 0.6079 - val_accuracy: 0.7785\n",
            "Epoch 99/100\n",
            "153/153 [==============================] - 3s 23ms/step - loss: 0.5969 - accuracy: 0.7885 - val_loss: 0.6051 - val_accuracy: 0.7785\n",
            "Epoch 100/100\n",
            "153/153 [==============================] - 3s 22ms/step - loss: 0.5988 - accuracy: 0.7885 - val_loss: 0.6049 - val_accuracy: 0.7785\n"
          ]
        }
      ],
      "source": [
        "history1=model1.fit(X_train_new,Y_train_new,batch_size=20,epochs=100,validation_data=(X_test_new,Y_test_new))"
      ]
    },
    {
      "cell_type": "code",
      "source": [
        "import matplotlib.pyplot as plt\n",
        "\n",
        "\n",
        "loss_val = history1.history['loss']\n",
        "epochs = range(1,101)\n",
        "\n",
        "plt.plot(epochs, loss_val, 'g', label='Training loss')\n",
        "plt.title('Training loss')\n",
        "plt.xlabel('Epochs')\n",
        "plt.ylabel('Loss')\n",
        "plt.legend()\n",
        "plt.show()"
      ],
      "metadata": {
        "colab": {
          "base_uri": "https://localhost:8080/",
          "height": 295
        },
        "id": "hHTFWjG18dbt",
        "outputId": "b619fc95-e566-4202-8091-cc5f3db61a4b"
      },
      "execution_count": null,
      "outputs": [
        {
          "output_type": "display_data",
          "data": {
            "image/png": "[encoded data removed]",
            "text/plain": [
              "<Figure size 432x288 with 1 Axes>"
            ]
          },
          "metadata": {
            "needs_background": "light"
          }
        }
      ]
    },
    {
      "cell_type": "code",
      "source": [
        "import matplotlib.pyplot as plt\n",
        "\n",
        "\n",
        "loss_val = history1.history['val_loss']\n",
        "epochs = range(1,101)\n",
        "\n",
        "plt.plot(epochs, loss_val, 'b', label='validation loss')\n",
        "plt.title('Validation loss')\n",
        "plt.xlabel('Epochs')\n",
        "plt.ylabel('Loss')\n",
        "plt.legend()\n",
        "plt.show()"
      ],
      "metadata": {
        "colab": {
          "base_uri": "https://localhost:8080/",
          "height": 295
        },
        "id": "EhHysXje4m2W",
        "outputId": "4c4d91ce-88c7-448c-e49e-98c4f184c9de"
      },
      "execution_count": null,
      "outputs": [
        {
          "output_type": "display_data",
          "data": {
            "image/png": "[encoded data removed]",
            "text/plain": [
              "<Figure size 432x288 with 1 Axes>"
            ]
          },
          "metadata": {
            "needs_background": "light"
          }
        }
      ]
    },
    {
      "cell_type": "code",
      "execution_count": null,
      "metadata": {
        "colab": {
          "base_uri": "https://localhost:8080/"
        },
        "id": "1AIAfkGw4cTV",
        "outputId": "7cfc1eaf-a8c0-4680-8754-4a9f90dadece"
      },
      "outputs": [
        {
          "output_type": "execute_result",
          "data": {
            "text/plain": [
              "0.7785059213638306"
            ]
          },
          "metadata": {},
          "execution_count": 34
        }
      ],
      "source": [
        "model1.evaluate(X_test_new,Y_test_new,verbose=0)[1]"
      ]
    },
    {
      "cell_type": "code",
      "execution_count": null,
      "metadata": {
        "id": "HwVc_cwy71Ye"
      },
      "outputs": [],
      "source": [
        "from keras import models\n",
        "from keras import layers\n",
        "from keras import optimizers\n",
        "from keras.layers import Dense, Activation, Flatten, Dropout, BatchNormalization\n",
        "from keras.models import Sequential, Model\n",
        "from keras.layers import Conv2D, MaxPooling2D\n",
        "from keras import regularizers, optimizers\n",
        "from keras.layers import Dense, Activation, Flatten, Dropout, BatchNormalization\n",
        "from keras.models import Sequential, Model\n",
        "from keras.layers import Conv2D, MaxPooling2D\n",
        "from keras import regularizers, optimizers"
      ]
    },
    {
      "cell_type": "code",
      "execution_count": null,
      "metadata": {
        "colab": {
          "base_uri": "https://localhost:8080/"
        },
        "id": "zvso3FOn74YO",
        "outputId": "c0503a17-c997-4a86-e66c-356be0b544eb"
      },
      "outputs": [
        {
          "output_type": "stream",
          "name": "stdout",
          "text": [
            "Model: \"sequential_1\"\n",
            "_________________________________________________________________\n",
            " Layer (type)                Output Shape              Param #   \n",
            "=================================================================\n",
            " conv2d (Conv2D)             (None, 296, 296, 48)      3648      \n",
            "                                                                 \n",
            " conv2d_1 (Conv2D)           (None, 294, 294, 32)      13856     \n",
            "                                                                 \n",
            " flatten (Flatten)           (None, 2765952)           0         \n",
            "                                                                 \n",
            " dense_7 (Dense)             (None, 48)                132765744 \n",
            "                                                                 \n",
            " dense_8 (Dense)             (None, 10)                490       \n",
            "                                                                 \n",
            "=================================================================\n",
            "Total params: 132,783,738\n",
            "Trainable params: 132,783,738\n",
            "Non-trainable params: 0\n",
            "_________________________________________________________________\n"
          ]
        }
      ],
      "source": [
        "model2 = Sequential()\n",
        "model2.add(Conv2D(48, kernel_size = (5, 5),  \n",
        "   activation = 'relu', input_shape=(300,300,3)))\n",
        "model2.add(Conv2D(32, (3, 3), activation = 'relu')) \n",
        "model2.add(Flatten()) \n",
        "model2.add(Dense(48, activation = 'relu')) \n",
        "model2.add(Dense(10, activation = 'softmax'))\n",
        "model2.summary()"
      ]
    },
    {
      "cell_type": "code",
      "execution_count": null,
      "metadata": {
        "id": "F2skot-O8ZIr"
      },
      "outputs": [],
      "source": [
        "model2.compile(loss='sparse_categorical_crossentropy',\n",
        "              optimizer='adam',\n",
        "              metrics=['accuracy'])"
      ]
    },
    {
      "cell_type": "code",
      "execution_count": null,
      "metadata": {
        "colab": {
          "base_uri": "https://localhost:8080/"
        },
        "id": "PEKDlX998qeI",
        "outputId": "34107cc9-a97b-4565-d982-d0678c625008"
      },
      "outputs": [
        {
          "output_type": "stream",
          "name": "stdout",
          "text": [
            "Epoch 1/10\n",
            "96/96 [==============================] - 77s 687ms/step - loss: 29.8752 - accuracy: 0.8761 - val_loss: 0.0546 - val_accuracy: 0.9843\n",
            "Epoch 2/10\n",
            "96/96 [==============================] - 63s 660ms/step - loss: 0.0190 - accuracy: 0.9961 - val_loss: 0.0088 - val_accuracy: 0.9987\n",
            "Epoch 3/10\n",
            "96/96 [==============================] - 63s 661ms/step - loss: 0.0012 - accuracy: 1.0000 - val_loss: 0.0056 - val_accuracy: 0.9974\n",
            "Epoch 4/10\n",
            "96/96 [==============================] - 64s 662ms/step - loss: 2.0036e-04 - accuracy: 1.0000 - val_loss: 0.0059 - val_accuracy: 0.9987\n",
            "Epoch 5/10\n",
            "96/96 [==============================] - 64s 662ms/step - loss: 8.3900e-05 - accuracy: 1.0000 - val_loss: 0.0026 - val_accuracy: 0.9987\n",
            "Epoch 6/10\n",
            "96/96 [==============================] - 64s 662ms/step - loss: 5.1991e-05 - accuracy: 1.0000 - val_loss: 0.0041 - val_accuracy: 0.9987\n",
            "Epoch 7/10\n",
            "96/96 [==============================] - 63s 661ms/step - loss: 4.0487e-05 - accuracy: 1.0000 - val_loss: 0.0053 - val_accuracy: 0.9987\n",
            "Epoch 8/10\n",
            "96/96 [==============================] - 63s 661ms/step - loss: 2.4174e-05 - accuracy: 1.0000 - val_loss: 0.0061 - val_accuracy: 0.9987\n",
            "Epoch 9/10\n",
            "96/96 [==============================] - 64s 662ms/step - loss: 1.7406e-05 - accuracy: 1.0000 - val_loss: 0.0061 - val_accuracy: 0.9987\n",
            "Epoch 10/10\n",
            "96/96 [==============================] - 63s 661ms/step - loss: 1.3729e-05 - accuracy: 1.0000 - val_loss: 0.0076 - val_accuracy: 0.9987\n"
          ]
        }
      ],
      "source": [
        "history2=model2.fit(X_train,Y_train,epochs=10,batch_size=32,validation_data=(X_test,Y_test))"
      ]
    },
    {
      "cell_type": "code",
      "source": [
        ""
      ],
      "metadata": {
        "id": "eaLfH_5_wwYg"
      },
      "execution_count": null,
      "outputs": []
    },
    {
      "cell_type": "code",
      "source": [
        "import matplotlib.pyplot as plt\n",
        "\n",
        "\n",
        "loss_val = history2.history['loss']\n",
        "epochs = range(1,11)\n",
        "\n",
        "plt.plot(epochs, loss_val, 'g', label='Training loss')\n",
        "plt.title('Training loss')\n",
        "plt.xlabel('Epochs')\n",
        "plt.ylabel('Loss')\n",
        "plt.legend()\n",
        "plt.show()"
      ],
      "metadata": {
        "colab": {
          "base_uri": "https://localhost:8080/",
          "height": 295
        },
        "outputId": "13dcf2ef-de29-4c1e-eb49-79521013af59",
        "id": "ytLMTE_N8stM"
      },
      "execution_count": null,
      "outputs": [
        {
          "output_type": "display_data",
          "data": {
            "image/png": "[encoded data removed]",
            "text/plain": [
              "<Figure size 432x288 with 1 Axes>"
            ]
          },
          "metadata": {
            "needs_background": "light"
          }
        }
      ]
    },
    {
      "cell_type": "code",
      "source": [
        "import matplotlib.pyplot as plt\n",
        "\n",
        "\n",
        "loss_val = history2.history['val_loss']\n",
        "epochs = range(1,11)\n",
        "\n",
        "plt.plot(epochs, loss_val, 'b', label='validation loss')\n",
        "plt.title('Validation loss')\n",
        "plt.xlabel('Epochs')\n",
        "plt.ylabel('Loss')\n",
        "plt.legend()\n",
        "plt.show()"
      ],
      "metadata": {
        "colab": {
          "base_uri": "https://localhost:8080/",
          "height": 295
        },
        "outputId": "309cd856-b200-446b-b694-06118f5625f8",
        "id": "hPUjJbsR8stM"
      },
      "execution_count": null,
      "outputs": [
        {
          "output_type": "display_data",
          "data": {
            "image/png": "[encoded data removed]",
            "text/plain": [
              "<Figure size 432x288 with 1 Axes>"
            ]
          },
          "metadata": {
            "needs_background": "light"
          }
        }
      ]
    }
  ],
  "metadata": {
    "accelerator": "GPU",
    "colab": {
      "name": "Assignment1_SoftComputing(v1).ipynb",
      "provenance": []
    },
    "kernelspec": {
      "display_name": "Python 3",
      "name": "python3"
    },
    "language_info": {
      "name": "python"
    }
  },
  "nbformat": 4,
  "nbformat_minor": 0
}